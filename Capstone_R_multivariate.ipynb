{
  "nbformat": 4,
  "nbformat_minor": 0,
  "metadata": {
    "colab": {
      "provenance": [],
      "collapsed_sections": [
        "DGj0jcLG1xP_",
        "PEn1jlLB7qoB",
        "iZ8aKZJ9_Odj",
        "J1-uDD3O_UXy"
      ]
    },
    "kernelspec": {
      "name": "ir",
      "display_name": "R"
    },
    "language_info": {
      "name": "R"
    }
  },
  "cells": [
    {
      "cell_type": "markdown",
      "source": [
        "# Capstone-R"
      ],
      "metadata": {
        "id": "3_UaxsB21zst"
      }
    },
    {
      "cell_type": "markdown",
      "source": [
        "## Pre-requisites"
      ],
      "metadata": {
        "id": "3hLwxSp3sQSG"
      }
    },
    {
      "cell_type": "markdown",
      "source": [
        "### Installations"
      ],
      "metadata": {
        "id": "Sq_FmO2lscCt"
      }
    },
    {
      "cell_type": "code",
      "source": [
        "# Install rpy2 using pip within an R environment\n",
        "system(\"pip install rpy2\")\n",
        "\n",
        "# Load necessary packages\n",
        "install.packages(\"dplyr\")\n",
        "install.packages(\"evir\")\n",
        "install.packages(c(\"ggplot2\", \"evir\", \"evd\", \"ismev\", \"extRemes\"))\n",
        "\n",
        "library(dplyr)\n",
        "library(readr)\n",
        "library(ggplot2)\n",
        "library(evir)\n",
        "library(evd)\n",
        "library(ismev)\n",
        "library(extRemes)"
      ],
      "metadata": {
        "id": "rwOZPaiq17I-",
        "colab": {
          "base_uri": "https://localhost:8080/"
        },
        "outputId": "a555b0e3-5408-4866-8dee-6ffe633417ec"
      },
      "execution_count": 1,
      "outputs": [
        {
          "output_type": "stream",
          "name": "stderr",
          "text": [
            "Installing package into ‘/usr/local/lib/R/site-library’\n",
            "(as ‘lib’ is unspecified)\n",
            "\n",
            "Installing package into ‘/usr/local/lib/R/site-library’\n",
            "(as ‘lib’ is unspecified)\n",
            "\n",
            "Installing packages into ‘/usr/local/lib/R/site-library’\n",
            "(as ‘lib’ is unspecified)\n",
            "\n",
            "also installing the dependencies ‘RcppArmadillo’, ‘Lmoments’, ‘distillery’\n",
            "\n",
            "\n",
            "\n",
            "Attaching package: ‘dplyr’\n",
            "\n",
            "\n",
            "The following objects are masked from ‘package:stats’:\n",
            "\n",
            "    filter, lag\n",
            "\n",
            "\n",
            "The following objects are masked from ‘package:base’:\n",
            "\n",
            "    intersect, setdiff, setequal, union\n",
            "\n",
            "\n",
            "\n",
            "Attaching package: ‘evir’\n",
            "\n",
            "\n",
            "The following object is masked from ‘package:ggplot2’:\n",
            "\n",
            "    qplot\n",
            "\n",
            "\n",
            "\n",
            "Attaching package: ‘evd’\n",
            "\n",
            "\n",
            "The following objects are masked from ‘package:evir’:\n",
            "\n",
            "    dgev, dgpd, pgev, pgpd, qgev, qgpd, rgev, rgpd\n",
            "\n",
            "\n",
            "Loading required package: mgcv\n",
            "\n",
            "Loading required package: nlme\n",
            "\n",
            "\n",
            "Attaching package: ‘nlme’\n",
            "\n",
            "\n",
            "The following object is masked from ‘package:dplyr’:\n",
            "\n",
            "    collapse\n",
            "\n",
            "\n",
            "This is mgcv 1.9-3. For overview type 'help(\"mgcv-package\")'.\n",
            "\n",
            "Loading required package: Lmoments\n",
            "\n",
            "Loading required package: distillery\n",
            "\n",
            "\n",
            "Attaching package: ‘extRemes’\n",
            "\n",
            "\n",
            "The following object is masked from ‘package:evd’:\n",
            "\n",
            "    mrlplot\n",
            "\n",
            "\n",
            "The following object is masked from ‘package:evir’:\n",
            "\n",
            "    decluster\n",
            "\n",
            "\n",
            "The following objects are masked from ‘package:stats’:\n",
            "\n",
            "    qqnorm, qqplot\n",
            "\n",
            "\n"
          ]
        }
      ]
    },
    {
      "cell_type": "markdown",
      "source": [
        "### Load Relevant files"
      ],
      "metadata": {
        "id": "9DpONKAKsiqg"
      }
    },
    {
      "cell_type": "code",
      "source": [
        "# Define the list of cryptocurrencies\n",
        "crypto_list <- c (\n",
        "    \"BTC-USD\", \"ETH-USD\", \"XRP-USD\", \"USDT-USD\",\n",
        "    \"ADA-USD\", \"DOGE-USD\", \"AVAX-USD\", \"DOT-USD\",\n",
        "    \"LTC-USD\", \"TRX-USD\", \"LINK-USD\", \"BCH-USD\", \"XLM-USD\",\n",
        "    \"LEO-USD\", \"OM-USD\"\n",
        ")\n",
        "\n",
        "# Directory containing CSV files\n",
        "csv_dir <- \"/content/\"\n",
        "\n",
        "# List all files in the directory\n",
        "csv_files <- list.files(csv_dir, pattern = \"*_std_residuals.csv\", full.names = TRUE)\n",
        "\n",
        "# Match files corresponding to crypto_list\n",
        "crypto_files <- csv_files[basename(csv_files) %in% paste0(crypto_list, \"_std_residuals.csv\")]\n",
        "\n",
        "# Load matched CSV files into a list\n",
        "crypto_data <- lapply(crypto_files, read_csv)\n",
        "\n",
        "# Assign names to the list based on the cryptocurrency names\n",
        "names(crypto_data) <- gsub(\"_std_residuals\\\\.csv$\", \"\", basename(crypto_files))"
      ],
      "metadata": {
        "id": "UvZSrc4w2J-d",
        "collapsed": true,
        "colab": {
          "base_uri": "https://localhost:8080/"
        },
        "outputId": "5d9705c2-20ea-4a7c-8456-53f6f07559c8"
      },
      "execution_count": 2,
      "outputs": [
        {
          "output_type": "stream",
          "name": "stderr",
          "text": [
            "\u001b[1mRows: \u001b[22m\u001b[34m1458\u001b[39m \u001b[1mColumns: \u001b[22m\u001b[34m1\u001b[39m\n",
            "\u001b[36m──\u001b[39m \u001b[1mColumn specification\u001b[22m \u001b[36m────────────────────────────────────────────────────────\u001b[39m\n",
            "\u001b[1mDelimiter:\u001b[22m \",\"\n",
            "\u001b[32mdbl\u001b[39m (1): Standardized Residuals\n",
            "\n",
            "\u001b[36mℹ\u001b[39m Use `spec()` to retrieve the full column specification for this data.\n",
            "\u001b[36mℹ\u001b[39m Specify the column types or set `show_col_types = FALSE` to quiet this message.\n",
            "\u001b[1mRows: \u001b[22m\u001b[34m1458\u001b[39m \u001b[1mColumns: \u001b[22m\u001b[34m1\u001b[39m\n",
            "\u001b[36m──\u001b[39m \u001b[1mColumn specification\u001b[22m \u001b[36m────────────────────────────────────────────────────────\u001b[39m\n",
            "\u001b[1mDelimiter:\u001b[22m \",\"\n",
            "\u001b[32mdbl\u001b[39m (1): Standardized Residuals\n",
            "\n",
            "\u001b[36mℹ\u001b[39m Use `spec()` to retrieve the full column specification for this data.\n",
            "\u001b[36mℹ\u001b[39m Specify the column types or set `show_col_types = FALSE` to quiet this message.\n",
            "\u001b[1mRows: \u001b[22m\u001b[34m1458\u001b[39m \u001b[1mColumns: \u001b[22m\u001b[34m1\u001b[39m\n",
            "\u001b[36m──\u001b[39m \u001b[1mColumn specification\u001b[22m \u001b[36m────────────────────────────────────────────────────────\u001b[39m\n",
            "\u001b[1mDelimiter:\u001b[22m \",\"\n",
            "\u001b[32mdbl\u001b[39m (1): Standardized Residuals\n",
            "\n",
            "\u001b[36mℹ\u001b[39m Use `spec()` to retrieve the full column specification for this data.\n",
            "\u001b[36mℹ\u001b[39m Specify the column types or set `show_col_types = FALSE` to quiet this message.\n",
            "\u001b[1mRows: \u001b[22m\u001b[34m1458\u001b[39m \u001b[1mColumns: \u001b[22m\u001b[34m1\u001b[39m\n",
            "\u001b[36m──\u001b[39m \u001b[1mColumn specification\u001b[22m \u001b[36m────────────────────────────────────────────────────────\u001b[39m\n",
            "\u001b[1mDelimiter:\u001b[22m \",\"\n",
            "\u001b[32mdbl\u001b[39m (1): Standardized Residuals\n",
            "\n",
            "\u001b[36mℹ\u001b[39m Use `spec()` to retrieve the full column specification for this data.\n",
            "\u001b[36mℹ\u001b[39m Specify the column types or set `show_col_types = FALSE` to quiet this message.\n",
            "\u001b[1mRows: \u001b[22m\u001b[34m1458\u001b[39m \u001b[1mColumns: \u001b[22m\u001b[34m1\u001b[39m\n",
            "\u001b[36m──\u001b[39m \u001b[1mColumn specification\u001b[22m \u001b[36m────────────────────────────────────────────────────────\u001b[39m\n",
            "\u001b[1mDelimiter:\u001b[22m \",\"\n",
            "\u001b[32mdbl\u001b[39m (1): Standardized Residuals\n",
            "\n",
            "\u001b[36mℹ\u001b[39m Use `spec()` to retrieve the full column specification for this data.\n",
            "\u001b[36mℹ\u001b[39m Specify the column types or set `show_col_types = FALSE` to quiet this message.\n",
            "\u001b[1mRows: \u001b[22m\u001b[34m1458\u001b[39m \u001b[1mColumns: \u001b[22m\u001b[34m1\u001b[39m\n",
            "\u001b[36m──\u001b[39m \u001b[1mColumn specification\u001b[22m \u001b[36m────────────────────────────────────────────────────────\u001b[39m\n",
            "\u001b[1mDelimiter:\u001b[22m \",\"\n",
            "\u001b[32mdbl\u001b[39m (1): Standardized Residuals\n",
            "\n",
            "\u001b[36mℹ\u001b[39m Use `spec()` to retrieve the full column specification for this data.\n",
            "\u001b[36mℹ\u001b[39m Specify the column types or set `show_col_types = FALSE` to quiet this message.\n",
            "\u001b[1mRows: \u001b[22m\u001b[34m1458\u001b[39m \u001b[1mColumns: \u001b[22m\u001b[34m1\u001b[39m\n",
            "\u001b[36m──\u001b[39m \u001b[1mColumn specification\u001b[22m \u001b[36m────────────────────────────────────────────────────────\u001b[39m\n",
            "\u001b[1mDelimiter:\u001b[22m \",\"\n",
            "\u001b[32mdbl\u001b[39m (1): Standardized Residuals\n",
            "\n",
            "\u001b[36mℹ\u001b[39m Use `spec()` to retrieve the full column specification for this data.\n",
            "\u001b[36mℹ\u001b[39m Specify the column types or set `show_col_types = FALSE` to quiet this message.\n",
            "\u001b[1mRows: \u001b[22m\u001b[34m1458\u001b[39m \u001b[1mColumns: \u001b[22m\u001b[34m1\u001b[39m\n",
            "\u001b[36m──\u001b[39m \u001b[1mColumn specification\u001b[22m \u001b[36m────────────────────────────────────────────────────────\u001b[39m\n",
            "\u001b[1mDelimiter:\u001b[22m \",\"\n",
            "\u001b[32mdbl\u001b[39m (1): Standardized Residuals\n",
            "\n",
            "\u001b[36mℹ\u001b[39m Use `spec()` to retrieve the full column specification for this data.\n",
            "\u001b[36mℹ\u001b[39m Specify the column types or set `show_col_types = FALSE` to quiet this message.\n",
            "\u001b[1mRows: \u001b[22m\u001b[34m1458\u001b[39m \u001b[1mColumns: \u001b[22m\u001b[34m1\u001b[39m\n",
            "\u001b[36m──\u001b[39m \u001b[1mColumn specification\u001b[22m \u001b[36m────────────────────────────────────────────────────────\u001b[39m\n",
            "\u001b[1mDelimiter:\u001b[22m \",\"\n",
            "\u001b[32mdbl\u001b[39m (1): Standardized Residuals\n",
            "\n",
            "\u001b[36mℹ\u001b[39m Use `spec()` to retrieve the full column specification for this data.\n",
            "\u001b[36mℹ\u001b[39m Specify the column types or set `show_col_types = FALSE` to quiet this message.\n",
            "\u001b[1mRows: \u001b[22m\u001b[34m1458\u001b[39m \u001b[1mColumns: \u001b[22m\u001b[34m1\u001b[39m\n",
            "\u001b[36m──\u001b[39m \u001b[1mColumn specification\u001b[22m \u001b[36m────────────────────────────────────────────────────────\u001b[39m\n",
            "\u001b[1mDelimiter:\u001b[22m \",\"\n",
            "\u001b[32mdbl\u001b[39m (1): Standardized Residuals\n",
            "\n",
            "\u001b[36mℹ\u001b[39m Use `spec()` to retrieve the full column specification for this data.\n",
            "\u001b[36mℹ\u001b[39m Specify the column types or set `show_col_types = FALSE` to quiet this message.\n",
            "\u001b[1mRows: \u001b[22m\u001b[34m1458\u001b[39m \u001b[1mColumns: \u001b[22m\u001b[34m1\u001b[39m\n",
            "\u001b[36m──\u001b[39m \u001b[1mColumn specification\u001b[22m \u001b[36m────────────────────────────────────────────────────────\u001b[39m\n",
            "\u001b[1mDelimiter:\u001b[22m \",\"\n",
            "\u001b[32mdbl\u001b[39m (1): Standardized Residuals\n",
            "\n",
            "\u001b[36mℹ\u001b[39m Use `spec()` to retrieve the full column specification for this data.\n",
            "\u001b[36mℹ\u001b[39m Specify the column types or set `show_col_types = FALSE` to quiet this message.\n",
            "\u001b[1mRows: \u001b[22m\u001b[34m1458\u001b[39m \u001b[1mColumns: \u001b[22m\u001b[34m1\u001b[39m\n",
            "\u001b[36m──\u001b[39m \u001b[1mColumn specification\u001b[22m \u001b[36m────────────────────────────────────────────────────────\u001b[39m\n",
            "\u001b[1mDelimiter:\u001b[22m \",\"\n",
            "\u001b[32mdbl\u001b[39m (1): Standardized Residuals\n",
            "\n",
            "\u001b[36mℹ\u001b[39m Use `spec()` to retrieve the full column specification for this data.\n",
            "\u001b[36mℹ\u001b[39m Specify the column types or set `show_col_types = FALSE` to quiet this message.\n",
            "\u001b[1mRows: \u001b[22m\u001b[34m1458\u001b[39m \u001b[1mColumns: \u001b[22m\u001b[34m1\u001b[39m\n",
            "\u001b[36m──\u001b[39m \u001b[1mColumn specification\u001b[22m \u001b[36m────────────────────────────────────────────────────────\u001b[39m\n",
            "\u001b[1mDelimiter:\u001b[22m \",\"\n",
            "\u001b[32mdbl\u001b[39m (1): Standardized Residuals\n",
            "\n",
            "\u001b[36mℹ\u001b[39m Use `spec()` to retrieve the full column specification for this data.\n",
            "\u001b[36mℹ\u001b[39m Specify the column types or set `show_col_types = FALSE` to quiet this message.\n",
            "\u001b[1mRows: \u001b[22m\u001b[34m1458\u001b[39m \u001b[1mColumns: \u001b[22m\u001b[34m1\u001b[39m\n",
            "\u001b[36m──\u001b[39m \u001b[1mColumn specification\u001b[22m \u001b[36m────────────────────────────────────────────────────────\u001b[39m\n",
            "\u001b[1mDelimiter:\u001b[22m \",\"\n",
            "\u001b[32mdbl\u001b[39m (1): Standardized Residuals\n",
            "\n",
            "\u001b[36mℹ\u001b[39m Use `spec()` to retrieve the full column specification for this data.\n",
            "\u001b[36mℹ\u001b[39m Specify the column types or set `show_col_types = FALSE` to quiet this message.\n",
            "\u001b[1mRows: \u001b[22m\u001b[34m1458\u001b[39m \u001b[1mColumns: \u001b[22m\u001b[34m1\u001b[39m\n",
            "\u001b[36m──\u001b[39m \u001b[1mColumn specification\u001b[22m \u001b[36m────────────────────────────────────────────────────────\u001b[39m\n",
            "\u001b[1mDelimiter:\u001b[22m \",\"\n",
            "\u001b[32mdbl\u001b[39m (1): Standardized Residuals\n",
            "\n",
            "\u001b[36mℹ\u001b[39m Use `spec()` to retrieve the full column specification for this data.\n",
            "\u001b[36mℹ\u001b[39m Specify the column types or set `show_col_types = FALSE` to quiet this message.\n"
          ]
        }
      ]
    },
    {
      "cell_type": "markdown",
      "source": [
        "## Univariate Extremes"
      ],
      "metadata": {
        "id": "ggge0n4lvtWk"
      }
    },
    {
      "cell_type": "markdown",
      "source": [
        "### Fit the GPD"
      ],
      "metadata": {
        "id": "iZ8aKZJ9_Odj"
      }
    },
    {
      "cell_type": "code",
      "source": [
        "# Define function to fit GPD\n",
        "fit_gpd_threshr <- function(residuals) {\n",
        "  # Ensure residuals are numeric and remove any NA values\n",
        "  residuals <- as.numeric(residuals)\n",
        "  residuals <- na.omit(residuals)\n",
        "\n",
        "  # If the dataset is empty after removing NAs, skip it\n",
        "  if (length(residuals) == 0) {\n",
        "    message(\"Dataset has no valid residuals after cleaning. Skipping...\")\n",
        "    return(NA)\n",
        "  }\n",
        "\n",
        "  # Set the threshold at the 90th percentile\n",
        "  threshold_val <- quantile(residuals, 0.90)\n",
        "\n",
        "  # Fit the GPD using 'gpd()' from the evir package\n",
        "  fit <- gpd(residuals, threshold = threshold_val)\n",
        "\n",
        "  # Extract shape and scale parameters\n",
        "  shape_val <- fit$par.ests[\"xi\"]   # Shape parameter\n",
        "  scale_val <- fit$par.ests[\"beta\"] # Scale parameter\n",
        "\n",
        "  # Return a list with threshold, shape, and scale parameters\n",
        "  return(list(\n",
        "    threshold = threshold_val,\n",
        "    shape = shape_val,\n",
        "    scale = scale_val\n",
        "  ))\n",
        "}\n",
        "\n",
        "# Apply GPD fitting and collect results for each cryptocurrency dataset\n",
        "gpd_results_threshr <- lapply(crypto_data, function(df) {\n",
        "  residuals <- df$`Standardized Residuals`\n",
        "  fit_gpd_threshr(residuals)\n",
        "})\n"
      ],
      "metadata": {
        "id": "Jse2cRA6qalj"
      },
      "execution_count": 3,
      "outputs": []
    },
    {
      "cell_type": "markdown",
      "source": [
        "### The Summary Table"
      ],
      "metadata": {
        "id": "J1-uDD3O_UXy"
      }
    },
    {
      "cell_type": "code",
      "source": [
        "# Convert results to a structured data frame\n",
        "gpd_results_df <- bind_rows(lapply(names(gpd_results_threshr), function(crypto) {\n",
        "  res <- gpd_results_threshr[[crypto]]\n",
        "\n",
        "  # Check if the result is NULL or empty\n",
        "  if (is.null(res) || length(res) == 0 || all(is.na(res))) {\n",
        "    return(data.frame(\n",
        "      Crypto = crypto,\n",
        "      Threshold = NA_real_,\n",
        "      Shape = NA_real_,\n",
        "      Scale = NA_real_\n",
        "    ))\n",
        "  }\n",
        "\n",
        "  # Extract values for threshold, shape, and scale\n",
        "  threshold_val <- ifelse(length(res$threshold) > 0, res$threshold, NA_real_)\n",
        "  shape_val <- ifelse(length(res$shape) > 0, res$shape, NA_real_)\n",
        "  scale_val <- ifelse(length(res$scale) > 0, res$scale, NA_real_)\n",
        "\n",
        "  # Return structured data\n",
        "  data.frame(\n",
        "    Crypto = crypto,\n",
        "    Threshold = threshold_val,\n",
        "    Shape = shape_val,\n",
        "    Scale = scale_val\n",
        "  )\n",
        "}), .id = NULL)  # Combine into a single data frame\n",
        "\n",
        "# Print the structured table\n",
        "print(gpd_results_df)\n",
        "\n",
        "# Optional: Save results as CSV\n",
        "write.csv(gpd_results_df, \"gpd_results_threshr.csv\", row.names = FALSE)\n"
      ],
      "metadata": {
        "id": "J-p4WTwsdc0X",
        "outputId": "93105c60-b929-413b-aa05-b4005830a456",
        "colab": {
          "base_uri": "https://localhost:8080/"
        }
      },
      "execution_count": 4,
      "outputs": [
        {
          "output_type": "stream",
          "name": "stdout",
          "text": [
            "     Crypto Threshold        Shape     Scale\n",
            "1   ADA-USD 1.0752835 0.1387491628 0.5688995\n",
            "2  AVAX-USD 1.0673760 0.0944578842 0.5758668\n",
            "3   BCH-USD 0.9368935 0.0271946218 0.6535262\n",
            "4   BTC-USD 0.9946363 0.0464601187 0.7174723\n",
            "5  DOGE-USD 0.9006746 0.0872031554 0.6672881\n",
            "6   DOT-USD 1.0886185 0.0428915169 0.6595464\n",
            "7   ETH-USD 1.0871536 0.0009239027 0.7303306\n",
            "8   LEO-USD 0.9632827 0.0469471168 0.7676387\n",
            "9  LINK-USD 1.1704245 0.0164791705 0.6601317\n",
            "10  LTC-USD 1.0765816 0.0327991781 0.7419544\n",
            "11   OM-USD 1.0274291 0.0378255182 0.6733580\n",
            "12  TRX-USD 1.0224857 0.2471216806 0.5998331\n",
            "13 USDT-USD 1.1947204 0.4356740296 0.4495800\n",
            "14  XLM-USD 1.0561084 0.1295263530 0.6401549\n",
            "15  XRP-USD 0.8583544 0.1106508326 0.5970345\n"
          ]
        }
      ]
    },
    {
      "cell_type": "markdown",
      "source": [
        "## Bivaraite Extremes"
      ],
      "metadata": {
        "id": "m607AFwuv1Op"
      }
    },
    {
      "cell_type": "markdown",
      "source": [
        "### Scatter Plots of ARMA-GARCH standard residuals and Asymptotic Dependance and Independance Diagrams"
      ],
      "metadata": {
        "id": "kF3phnc1v33u"
      }
    },
    {
      "cell_type": "code",
      "source": [
        "# Generate all possible pairs of cryptocurrencies\n",
        "crypto_pairs <- combn(names(crypto_data), 2, simplify = FALSE)\n",
        "\n",
        "# Function to synchronize data lengths\n",
        "trim_data <- function(df1, df2) {\n",
        "  min_length <- min(nrow(df1), nrow(df2))\n",
        "  df1 <- df1[1:min_length, , drop = FALSE]\n",
        "  df2 <- df2[1:min_length, , drop = FALSE]\n",
        "  return(list(df1 = df1, df2 = df2))\n",
        "}\n",
        "\n",
        "# Scatter Plot Function\n",
        "plot_scatter_residuals <- function(df1, df2, crypto_x, crypto_y) {\n",
        "  trimmed <- trim_data(df1, df2)\n",
        "  df1 <- trimmed$df1\n",
        "  df2 <- trimmed$df2\n",
        "\n",
        "  combined_data <- data.frame(X = df1$`Standardized Residuals`, Y = df2$`Standardized Residuals`)\n",
        "\n",
        "  ggplot(combined_data, aes(x = X, y = Y)) +\n",
        "    geom_point(alpha = 0.6, color = \"blue\") +\n",
        "    theme_minimal() +\n",
        "    labs(title = paste(\"Scatter Plot:\", crypto_x, \"vs\", crypto_y),\n",
        "         x = crypto_x, y = crypto_y)\n",
        "}\n",
        "\n",
        "# Compute χ\n",
        "compute_chi <- function(df1, df2, u = 0.90) {\n",
        "  trimmed <- trim_data(df1, df2)\n",
        "  X <- na.omit(trimmed$df1$`Standardized Residuals`)\n",
        "  Y <- na.omit(trimmed$df2$`Standardized Residuals`)\n",
        "  threshold_x <- quantile(X, u)\n",
        "  threshold_y <- quantile(Y, u)\n",
        "  exceed_x <- X > threshold_x\n",
        "  exceed_y <- Y > threshold_y\n",
        "  chi <- sum(exceed_x & exceed_y) / sum(exceed_x)\n",
        "  return(chi)\n",
        "}\n",
        "\n",
        "# Compute χ̄\n",
        "compute_chi_bar <- function(df1, df2, u = 0.90) {\n",
        "  trimmed <- trim_data(df1, df2)\n",
        "  X <- na.omit(trimmed$df1$`Standardized Residuals`)\n",
        "  Y <- na.omit(trimmed$df2$`Standardized Residuals`)\n",
        "  threshold_x <- quantile(X, u)\n",
        "  threshold_y <- quantile(Y, u)\n",
        "  exceed_x <- X > threshold_x\n",
        "  exceed_y <- Y > threshold_y\n",
        "  chi_bar <- 2 * log(mean(exceed_x & exceed_y)) / log(mean(exceed_x)) + log(mean(exceed_y))\n",
        "  return(chi_bar)\n",
        "}\n",
        "\n",
        "# Plot χ vs threshold\n",
        "plot_asymptotic_dependence <- function(df1, df2, crypto_x, crypto_y, u_seq = seq(0.90, 0.99, by = 0.01)) {\n",
        "  chi_values <- sapply(u_seq, function(u) compute_chi(df1, df2, u))\n",
        "  df_plot <- data.frame(Threshold = u_seq, Chi = chi_values)\n",
        "  ggplot(df_plot, aes(x = Threshold, y = Chi)) +\n",
        "    geom_line(color = \"blue\") +\n",
        "    geom_point(color = \"red\") +\n",
        "    theme_minimal() +\n",
        "    labs(title = paste(\"χ Index for\", crypto_x, \"-\", crypto_y),\n",
        "         x = \"Quantile Threshold\", y = \"Chi\")\n",
        "}\n",
        "\n",
        "# Plot χ̄ vs threshold\n",
        "plot_chi_bar <- function(df1, df2, crypto_x, crypto_y, u_seq = seq(0.90, 0.99, by = 0.01)) {\n",
        "  chi_bar_values <- sapply(u_seq, function(u) compute_chi_bar(df1, df2, u))\n",
        "  df_plot <- data.frame(Threshold = u_seq, ChiBar = chi_bar_values)\n",
        "  ggplot(df_plot, aes(x = Threshold, y = ChiBar)) +\n",
        "    geom_line(color = \"darkgreen\") +\n",
        "    geom_point(color = \"orange\") +\n",
        "    theme_minimal() +\n",
        "    labs(title = paste(\"χ̄ Index for\", crypto_x, \"-\", crypto_y),\n",
        "         x = \"Quantile Threshold\", y = \"Chi-bar\")\n",
        "}\n",
        "\n",
        "# Initialize summary storage\n",
        "summary_results <- data.frame(\n",
        "  Crypto_X = character(),\n",
        "  Crypto_Y = character(),\n",
        "  Pearson_Correlation = numeric(),\n",
        "  Chi_0.90 = numeric(),\n",
        "  ChiBar_0.90 = numeric(),\n",
        "  stringsAsFactors = FALSE\n",
        ")\n",
        "\n",
        "# Run everything\n",
        "output_dir <- \"output_plots\"\n",
        "dir.create(output_dir, showWarnings = FALSE)\n",
        "\n",
        "for (pair in crypto_pairs) {\n",
        "  crypto_x <- pair[1]\n",
        "  crypto_y <- pair[2]\n",
        "\n",
        "  cat(\"Processing:\", crypto_x, \"vs\", crypto_y, \"\\n\")\n",
        "  df_x <- crypto_data[[crypto_x]]\n",
        "  df_y <- crypto_data[[crypto_y]]\n",
        "\n",
        "  # Save scatter plot\n",
        "  scatter_plot <- plot_scatter_residuals(df_x, df_y, crypto_x, crypto_y)\n",
        "  ggsave(filename = file.path(output_dir, paste0(crypto_x, \"_vs_\", crypto_y, \"_scatter.png\")),\n",
        "         plot = scatter_plot)\n",
        "\n",
        "  # Save chi plot\n",
        "  ad_index_plot <- plot_asymptotic_dependence(df_x, df_y, crypto_x, crypto_y)\n",
        "  ggsave(filename = file.path(output_dir, paste0(crypto_x, \"_vs_\", crypto_y, \"_chi.png\")),\n",
        "         plot = ad_index_plot)\n",
        "\n",
        "  # Save chi-bar plot\n",
        "  chi_bar_plot <- plot_chi_bar(df_x, df_y, crypto_x, crypto_y)\n",
        "  ggsave(filename = file.path(output_dir, paste0(crypto_x, \"_vs_\", crypto_y, \"_chi_bar.png\")),\n",
        "         plot = chi_bar_plot)\n",
        "\n",
        "  # Store correlation, chi, chi-bar at u = 0.90\n",
        "  trimmed <- trim_data(df_x, df_y)\n",
        "  corr <- cor(trimmed$df1$`Standardized Residuals`, trimmed$df2$`Standardized Residuals`, use = \"complete.obs\")\n",
        "  chi_90 <- compute_chi(df_x, df_y, 0.90)\n",
        "  chi_bar_90 <- compute_chi_bar(df_x, df_y, 0.90)\n",
        "\n",
        "  summary_results <- rbind(summary_results, data.frame(\n",
        "    Crypto_X = crypto_x,\n",
        "    Crypto_Y = crypto_y,\n",
        "    Pearson_Correlation = round(corr, 4),\n",
        "    Chi_0.90 = round(chi_90, 4),\n",
        "    ChiBar_0.90 = round(chi_bar_90, 4)\n",
        "  ))\n",
        "}\n",
        "\n",
        "# Export summary table\n",
        "write_csv(summary_results, file.path(output_dir, \"crypto_dependence_summary.csv\"))\n"
      ],
      "metadata": {
        "id": "-isqPCYB6Mug",
        "colab": {
          "base_uri": "https://localhost:8080/"
        },
        "outputId": "4705296d-d1e5-4955-d0a7-ef6cc8263d04",
        "collapsed": true
      },
      "execution_count": 6,
      "outputs": [
        {
          "output_type": "stream",
          "name": "stdout",
          "text": [
            "Processing: ADA-USD vs AVAX-USD \n"
          ]
        },
        {
          "output_type": "stream",
          "name": "stderr",
          "text": [
            "\u001b[1m\u001b[22mSaving 7 x 7 in image\n",
            "\u001b[1m\u001b[22mSaving 7 x 7 in image\n",
            "\u001b[1m\u001b[22mSaving 7 x 7 in image\n"
          ]
        },
        {
          "output_type": "stream",
          "name": "stdout",
          "text": [
            "Processing: ADA-USD vs BCH-USD \n"
          ]
        },
        {
          "output_type": "stream",
          "name": "stderr",
          "text": [
            "\u001b[1m\u001b[22mSaving 7 x 7 in image\n",
            "\u001b[1m\u001b[22mSaving 7 x 7 in image\n",
            "\u001b[1m\u001b[22mSaving 7 x 7 in image\n"
          ]
        },
        {
          "output_type": "stream",
          "name": "stdout",
          "text": [
            "Processing: ADA-USD vs BTC-USD \n"
          ]
        },
        {
          "output_type": "stream",
          "name": "stderr",
          "text": [
            "\u001b[1m\u001b[22mSaving 7 x 7 in image\n",
            "\u001b[1m\u001b[22mSaving 7 x 7 in image\n",
            "\u001b[1m\u001b[22mSaving 7 x 7 in image\n"
          ]
        },
        {
          "output_type": "stream",
          "name": "stdout",
          "text": [
            "Processing: ADA-USD vs DOGE-USD \n"
          ]
        },
        {
          "output_type": "stream",
          "name": "stderr",
          "text": [
            "\u001b[1m\u001b[22mSaving 7 x 7 in image\n",
            "\u001b[1m\u001b[22mSaving 7 x 7 in image\n",
            "\u001b[1m\u001b[22mSaving 7 x 7 in image\n"
          ]
        },
        {
          "output_type": "stream",
          "name": "stdout",
          "text": [
            "Processing: ADA-USD vs DOT-USD \n"
          ]
        },
        {
          "output_type": "stream",
          "name": "stderr",
          "text": [
            "\u001b[1m\u001b[22mSaving 7 x 7 in image\n",
            "\u001b[1m\u001b[22mSaving 7 x 7 in image\n",
            "\u001b[1m\u001b[22mSaving 7 x 7 in image\n"
          ]
        },
        {
          "output_type": "stream",
          "name": "stdout",
          "text": [
            "Processing: ADA-USD vs ETH-USD \n"
          ]
        },
        {
          "output_type": "stream",
          "name": "stderr",
          "text": [
            "\u001b[1m\u001b[22mSaving 7 x 7 in image\n",
            "\u001b[1m\u001b[22mSaving 7 x 7 in image\n",
            "\u001b[1m\u001b[22mSaving 7 x 7 in image\n"
          ]
        },
        {
          "output_type": "stream",
          "name": "stdout",
          "text": [
            "Processing: ADA-USD vs LEO-USD \n"
          ]
        },
        {
          "output_type": "stream",
          "name": "stderr",
          "text": [
            "\u001b[1m\u001b[22mSaving 7 x 7 in image\n",
            "\u001b[1m\u001b[22mSaving 7 x 7 in image\n",
            "\u001b[1m\u001b[22mSaving 7 x 7 in image\n"
          ]
        },
        {
          "output_type": "stream",
          "name": "stdout",
          "text": [
            "Processing: ADA-USD vs LINK-USD \n"
          ]
        },
        {
          "output_type": "stream",
          "name": "stderr",
          "text": [
            "\u001b[1m\u001b[22mSaving 7 x 7 in image\n",
            "\u001b[1m\u001b[22mSaving 7 x 7 in image\n",
            "\u001b[1m\u001b[22mSaving 7 x 7 in image\n"
          ]
        },
        {
          "output_type": "stream",
          "name": "stdout",
          "text": [
            "Processing: ADA-USD vs LTC-USD \n"
          ]
        },
        {
          "output_type": "stream",
          "name": "stderr",
          "text": [
            "\u001b[1m\u001b[22mSaving 7 x 7 in image\n",
            "\u001b[1m\u001b[22mSaving 7 x 7 in image\n",
            "\u001b[1m\u001b[22mSaving 7 x 7 in image\n"
          ]
        },
        {
          "output_type": "stream",
          "name": "stdout",
          "text": [
            "Processing: ADA-USD vs OM-USD \n"
          ]
        },
        {
          "output_type": "stream",
          "name": "stderr",
          "text": [
            "\u001b[1m\u001b[22mSaving 7 x 7 in image\n",
            "\u001b[1m\u001b[22mSaving 7 x 7 in image\n",
            "\u001b[1m\u001b[22mSaving 7 x 7 in image\n"
          ]
        },
        {
          "output_type": "stream",
          "name": "stdout",
          "text": [
            "Processing: ADA-USD vs TRX-USD \n"
          ]
        },
        {
          "output_type": "stream",
          "name": "stderr",
          "text": [
            "\u001b[1m\u001b[22mSaving 7 x 7 in image\n",
            "\u001b[1m\u001b[22mSaving 7 x 7 in image\n",
            "\u001b[1m\u001b[22mSaving 7 x 7 in image\n"
          ]
        },
        {
          "output_type": "stream",
          "name": "stdout",
          "text": [
            "Processing: ADA-USD vs USDT-USD \n"
          ]
        },
        {
          "output_type": "stream",
          "name": "stderr",
          "text": [
            "\u001b[1m\u001b[22mSaving 7 x 7 in image\n",
            "\u001b[1m\u001b[22mSaving 7 x 7 in image\n",
            "\u001b[1m\u001b[22mSaving 7 x 7 in image\n"
          ]
        },
        {
          "output_type": "stream",
          "name": "stdout",
          "text": [
            "Processing: ADA-USD vs XLM-USD \n"
          ]
        },
        {
          "output_type": "stream",
          "name": "stderr",
          "text": [
            "\u001b[1m\u001b[22mSaving 7 x 7 in image\n",
            "\u001b[1m\u001b[22mSaving 7 x 7 in image\n",
            "\u001b[1m\u001b[22mSaving 7 x 7 in image\n"
          ]
        },
        {
          "output_type": "stream",
          "name": "stdout",
          "text": [
            "Processing: ADA-USD vs XRP-USD \n"
          ]
        },
        {
          "output_type": "stream",
          "name": "stderr",
          "text": [
            "\u001b[1m\u001b[22mSaving 7 x 7 in image\n",
            "\u001b[1m\u001b[22mSaving 7 x 7 in image\n",
            "\u001b[1m\u001b[22mSaving 7 x 7 in image\n"
          ]
        },
        {
          "output_type": "stream",
          "name": "stdout",
          "text": [
            "Processing: AVAX-USD vs BCH-USD \n"
          ]
        },
        {
          "output_type": "stream",
          "name": "stderr",
          "text": [
            "\u001b[1m\u001b[22mSaving 7 x 7 in image\n",
            "\u001b[1m\u001b[22mSaving 7 x 7 in image\n",
            "\u001b[1m\u001b[22mSaving 7 x 7 in image\n"
          ]
        },
        {
          "output_type": "stream",
          "name": "stdout",
          "text": [
            "Processing: AVAX-USD vs BTC-USD \n"
          ]
        },
        {
          "output_type": "stream",
          "name": "stderr",
          "text": [
            "\u001b[1m\u001b[22mSaving 7 x 7 in image\n",
            "\u001b[1m\u001b[22mSaving 7 x 7 in image\n",
            "\u001b[1m\u001b[22mSaving 7 x 7 in image\n"
          ]
        },
        {
          "output_type": "stream",
          "name": "stdout",
          "text": [
            "Processing: AVAX-USD vs DOGE-USD \n"
          ]
        },
        {
          "output_type": "stream",
          "name": "stderr",
          "text": [
            "\u001b[1m\u001b[22mSaving 7 x 7 in image\n",
            "\u001b[1m\u001b[22mSaving 7 x 7 in image\n",
            "\u001b[1m\u001b[22mSaving 7 x 7 in image\n"
          ]
        },
        {
          "output_type": "stream",
          "name": "stdout",
          "text": [
            "Processing: AVAX-USD vs DOT-USD \n"
          ]
        },
        {
          "output_type": "stream",
          "name": "stderr",
          "text": [
            "\u001b[1m\u001b[22mSaving 7 x 7 in image\n",
            "\u001b[1m\u001b[22mSaving 7 x 7 in image\n",
            "\u001b[1m\u001b[22mSaving 7 x 7 in image\n"
          ]
        },
        {
          "output_type": "stream",
          "name": "stdout",
          "text": [
            "Processing: AVAX-USD vs ETH-USD \n"
          ]
        },
        {
          "output_type": "stream",
          "name": "stderr",
          "text": [
            "\u001b[1m\u001b[22mSaving 7 x 7 in image\n",
            "\u001b[1m\u001b[22mSaving 7 x 7 in image\n",
            "\u001b[1m\u001b[22mSaving 7 x 7 in image\n"
          ]
        },
        {
          "output_type": "stream",
          "name": "stdout",
          "text": [
            "Processing: AVAX-USD vs LEO-USD \n"
          ]
        },
        {
          "output_type": "stream",
          "name": "stderr",
          "text": [
            "\u001b[1m\u001b[22mSaving 7 x 7 in image\n",
            "\u001b[1m\u001b[22mSaving 7 x 7 in image\n",
            "\u001b[1m\u001b[22mSaving 7 x 7 in image\n"
          ]
        },
        {
          "output_type": "stream",
          "name": "stdout",
          "text": [
            "Processing: AVAX-USD vs LINK-USD \n"
          ]
        },
        {
          "output_type": "stream",
          "name": "stderr",
          "text": [
            "\u001b[1m\u001b[22mSaving 7 x 7 in image\n",
            "\u001b[1m\u001b[22mSaving 7 x 7 in image\n",
            "\u001b[1m\u001b[22mSaving 7 x 7 in image\n"
          ]
        },
        {
          "output_type": "stream",
          "name": "stdout",
          "text": [
            "Processing: AVAX-USD vs LTC-USD \n"
          ]
        },
        {
          "output_type": "stream",
          "name": "stderr",
          "text": [
            "\u001b[1m\u001b[22mSaving 7 x 7 in image\n",
            "\u001b[1m\u001b[22mSaving 7 x 7 in image\n",
            "\u001b[1m\u001b[22mSaving 7 x 7 in image\n"
          ]
        },
        {
          "output_type": "stream",
          "name": "stdout",
          "text": [
            "Processing: AVAX-USD vs OM-USD \n"
          ]
        },
        {
          "output_type": "stream",
          "name": "stderr",
          "text": [
            "\u001b[1m\u001b[22mSaving 7 x 7 in image\n",
            "\u001b[1m\u001b[22mSaving 7 x 7 in image\n",
            "\u001b[1m\u001b[22mSaving 7 x 7 in image\n"
          ]
        },
        {
          "output_type": "stream",
          "name": "stdout",
          "text": [
            "Processing: AVAX-USD vs TRX-USD \n"
          ]
        },
        {
          "output_type": "stream",
          "name": "stderr",
          "text": [
            "\u001b[1m\u001b[22mSaving 7 x 7 in image\n",
            "\u001b[1m\u001b[22mSaving 7 x 7 in image\n",
            "\u001b[1m\u001b[22mSaving 7 x 7 in image\n"
          ]
        },
        {
          "output_type": "stream",
          "name": "stdout",
          "text": [
            "Processing: AVAX-USD vs USDT-USD \n"
          ]
        },
        {
          "output_type": "stream",
          "name": "stderr",
          "text": [
            "\u001b[1m\u001b[22mSaving 7 x 7 in image\n",
            "\u001b[1m\u001b[22mSaving 7 x 7 in image\n",
            "\u001b[1m\u001b[22mSaving 7 x 7 in image\n"
          ]
        },
        {
          "output_type": "stream",
          "name": "stdout",
          "text": [
            "Processing: AVAX-USD vs XLM-USD \n"
          ]
        },
        {
          "output_type": "stream",
          "name": "stderr",
          "text": [
            "\u001b[1m\u001b[22mSaving 7 x 7 in image\n",
            "\u001b[1m\u001b[22mSaving 7 x 7 in image\n",
            "\u001b[1m\u001b[22mSaving 7 x 7 in image\n"
          ]
        },
        {
          "output_type": "stream",
          "name": "stdout",
          "text": [
            "Processing: AVAX-USD vs XRP-USD \n"
          ]
        },
        {
          "output_type": "stream",
          "name": "stderr",
          "text": [
            "\u001b[1m\u001b[22mSaving 7 x 7 in image\n",
            "\u001b[1m\u001b[22mSaving 7 x 7 in image\n",
            "\u001b[1m\u001b[22mSaving 7 x 7 in image\n"
          ]
        },
        {
          "output_type": "stream",
          "name": "stdout",
          "text": [
            "Processing: BCH-USD vs BTC-USD \n"
          ]
        },
        {
          "output_type": "stream",
          "name": "stderr",
          "text": [
            "\u001b[1m\u001b[22mSaving 7 x 7 in image\n",
            "\u001b[1m\u001b[22mSaving 7 x 7 in image\n",
            "\u001b[1m\u001b[22mSaving 7 x 7 in image\n"
          ]
        },
        {
          "output_type": "stream",
          "name": "stdout",
          "text": [
            "Processing: BCH-USD vs DOGE-USD \n"
          ]
        },
        {
          "output_type": "stream",
          "name": "stderr",
          "text": [
            "\u001b[1m\u001b[22mSaving 7 x 7 in image\n",
            "\u001b[1m\u001b[22mSaving 7 x 7 in image\n",
            "\u001b[1m\u001b[22mSaving 7 x 7 in image\n"
          ]
        },
        {
          "output_type": "stream",
          "name": "stdout",
          "text": [
            "Processing: BCH-USD vs DOT-USD \n"
          ]
        },
        {
          "output_type": "stream",
          "name": "stderr",
          "text": [
            "\u001b[1m\u001b[22mSaving 7 x 7 in image\n",
            "\u001b[1m\u001b[22mSaving 7 x 7 in image\n",
            "\u001b[1m\u001b[22mSaving 7 x 7 in image\n"
          ]
        },
        {
          "output_type": "stream",
          "name": "stdout",
          "text": [
            "Processing: BCH-USD vs ETH-USD \n"
          ]
        },
        {
          "output_type": "stream",
          "name": "stderr",
          "text": [
            "\u001b[1m\u001b[22mSaving 7 x 7 in image\n",
            "\u001b[1m\u001b[22mSaving 7 x 7 in image\n",
            "\u001b[1m\u001b[22mSaving 7 x 7 in image\n"
          ]
        },
        {
          "output_type": "stream",
          "name": "stdout",
          "text": [
            "Processing: BCH-USD vs LEO-USD \n"
          ]
        },
        {
          "output_type": "stream",
          "name": "stderr",
          "text": [
            "\u001b[1m\u001b[22mSaving 7 x 7 in image\n",
            "\u001b[1m\u001b[22mSaving 7 x 7 in image\n",
            "\u001b[1m\u001b[22mSaving 7 x 7 in image\n"
          ]
        },
        {
          "output_type": "stream",
          "name": "stdout",
          "text": [
            "Processing: BCH-USD vs LINK-USD \n"
          ]
        },
        {
          "output_type": "stream",
          "name": "stderr",
          "text": [
            "\u001b[1m\u001b[22mSaving 7 x 7 in image\n",
            "\u001b[1m\u001b[22mSaving 7 x 7 in image\n",
            "\u001b[1m\u001b[22mSaving 7 x 7 in image\n"
          ]
        },
        {
          "output_type": "stream",
          "name": "stdout",
          "text": [
            "Processing: BCH-USD vs LTC-USD \n"
          ]
        },
        {
          "output_type": "stream",
          "name": "stderr",
          "text": [
            "\u001b[1m\u001b[22mSaving 7 x 7 in image\n",
            "\u001b[1m\u001b[22mSaving 7 x 7 in image\n",
            "\u001b[1m\u001b[22mSaving 7 x 7 in image\n"
          ]
        },
        {
          "output_type": "stream",
          "name": "stdout",
          "text": [
            "Processing: BCH-USD vs OM-USD \n"
          ]
        },
        {
          "output_type": "stream",
          "name": "stderr",
          "text": [
            "\u001b[1m\u001b[22mSaving 7 x 7 in image\n",
            "\u001b[1m\u001b[22mSaving 7 x 7 in image\n",
            "\u001b[1m\u001b[22mSaving 7 x 7 in image\n"
          ]
        },
        {
          "output_type": "stream",
          "name": "stdout",
          "text": [
            "Processing: BCH-USD vs TRX-USD \n"
          ]
        },
        {
          "output_type": "stream",
          "name": "stderr",
          "text": [
            "\u001b[1m\u001b[22mSaving 7 x 7 in image\n",
            "\u001b[1m\u001b[22mSaving 7 x 7 in image\n",
            "\u001b[1m\u001b[22mSaving 7 x 7 in image\n"
          ]
        },
        {
          "output_type": "stream",
          "name": "stdout",
          "text": [
            "Processing: BCH-USD vs USDT-USD \n"
          ]
        },
        {
          "output_type": "stream",
          "name": "stderr",
          "text": [
            "\u001b[1m\u001b[22mSaving 7 x 7 in image\n",
            "\u001b[1m\u001b[22mSaving 7 x 7 in image\n",
            "\u001b[1m\u001b[22mSaving 7 x 7 in image\n"
          ]
        },
        {
          "output_type": "stream",
          "name": "stdout",
          "text": [
            "Processing: BCH-USD vs XLM-USD \n"
          ]
        },
        {
          "output_type": "stream",
          "name": "stderr",
          "text": [
            "\u001b[1m\u001b[22mSaving 7 x 7 in image\n",
            "\u001b[1m\u001b[22mSaving 7 x 7 in image\n",
            "\u001b[1m\u001b[22mSaving 7 x 7 in image\n"
          ]
        },
        {
          "output_type": "stream",
          "name": "stdout",
          "text": [
            "Processing: BCH-USD vs XRP-USD \n"
          ]
        },
        {
          "output_type": "stream",
          "name": "stderr",
          "text": [
            "\u001b[1m\u001b[22mSaving 7 x 7 in image\n",
            "\u001b[1m\u001b[22mSaving 7 x 7 in image\n",
            "\u001b[1m\u001b[22mSaving 7 x 7 in image\n"
          ]
        },
        {
          "output_type": "stream",
          "name": "stdout",
          "text": [
            "Processing: BTC-USD vs DOGE-USD \n"
          ]
        },
        {
          "output_type": "stream",
          "name": "stderr",
          "text": [
            "\u001b[1m\u001b[22mSaving 7 x 7 in image\n",
            "\u001b[1m\u001b[22mSaving 7 x 7 in image\n",
            "\u001b[1m\u001b[22mSaving 7 x 7 in image\n"
          ]
        },
        {
          "output_type": "stream",
          "name": "stdout",
          "text": [
            "Processing: BTC-USD vs DOT-USD \n"
          ]
        },
        {
          "output_type": "stream",
          "name": "stderr",
          "text": [
            "\u001b[1m\u001b[22mSaving 7 x 7 in image\n",
            "\u001b[1m\u001b[22mSaving 7 x 7 in image\n",
            "\u001b[1m\u001b[22mSaving 7 x 7 in image\n"
          ]
        },
        {
          "output_type": "stream",
          "name": "stdout",
          "text": [
            "Processing: BTC-USD vs ETH-USD \n"
          ]
        },
        {
          "output_type": "stream",
          "name": "stderr",
          "text": [
            "\u001b[1m\u001b[22mSaving 7 x 7 in image\n",
            "\u001b[1m\u001b[22mSaving 7 x 7 in image\n",
            "\u001b[1m\u001b[22mSaving 7 x 7 in image\n"
          ]
        },
        {
          "output_type": "stream",
          "name": "stdout",
          "text": [
            "Processing: BTC-USD vs LEO-USD \n"
          ]
        },
        {
          "output_type": "stream",
          "name": "stderr",
          "text": [
            "\u001b[1m\u001b[22mSaving 7 x 7 in image\n",
            "\u001b[1m\u001b[22mSaving 7 x 7 in image\n",
            "\u001b[1m\u001b[22mSaving 7 x 7 in image\n"
          ]
        },
        {
          "output_type": "stream",
          "name": "stdout",
          "text": [
            "Processing: BTC-USD vs LINK-USD \n"
          ]
        },
        {
          "output_type": "stream",
          "name": "stderr",
          "text": [
            "\u001b[1m\u001b[22mSaving 7 x 7 in image\n",
            "\u001b[1m\u001b[22mSaving 7 x 7 in image\n",
            "\u001b[1m\u001b[22mSaving 7 x 7 in image\n"
          ]
        },
        {
          "output_type": "stream",
          "name": "stdout",
          "text": [
            "Processing: BTC-USD vs LTC-USD \n"
          ]
        },
        {
          "output_type": "stream",
          "name": "stderr",
          "text": [
            "\u001b[1m\u001b[22mSaving 7 x 7 in image\n",
            "\u001b[1m\u001b[22mSaving 7 x 7 in image\n",
            "\u001b[1m\u001b[22mSaving 7 x 7 in image\n"
          ]
        },
        {
          "output_type": "stream",
          "name": "stdout",
          "text": [
            "Processing: BTC-USD vs OM-USD \n"
          ]
        },
        {
          "output_type": "stream",
          "name": "stderr",
          "text": [
            "\u001b[1m\u001b[22mSaving 7 x 7 in image\n",
            "\u001b[1m\u001b[22mSaving 7 x 7 in image\n",
            "\u001b[1m\u001b[22mSaving 7 x 7 in image\n"
          ]
        },
        {
          "output_type": "stream",
          "name": "stdout",
          "text": [
            "Processing: BTC-USD vs TRX-USD \n"
          ]
        },
        {
          "output_type": "stream",
          "name": "stderr",
          "text": [
            "\u001b[1m\u001b[22mSaving 7 x 7 in image\n",
            "\u001b[1m\u001b[22mSaving 7 x 7 in image\n",
            "\u001b[1m\u001b[22mSaving 7 x 7 in image\n"
          ]
        },
        {
          "output_type": "stream",
          "name": "stdout",
          "text": [
            "Processing: BTC-USD vs USDT-USD \n"
          ]
        },
        {
          "output_type": "stream",
          "name": "stderr",
          "text": [
            "\u001b[1m\u001b[22mSaving 7 x 7 in image\n",
            "\u001b[1m\u001b[22mSaving 7 x 7 in image\n",
            "\u001b[1m\u001b[22mSaving 7 x 7 in image\n"
          ]
        },
        {
          "output_type": "stream",
          "name": "stdout",
          "text": [
            "Processing: BTC-USD vs XLM-USD \n"
          ]
        },
        {
          "output_type": "stream",
          "name": "stderr",
          "text": [
            "\u001b[1m\u001b[22mSaving 7 x 7 in image\n",
            "\u001b[1m\u001b[22mSaving 7 x 7 in image\n",
            "\u001b[1m\u001b[22mSaving 7 x 7 in image\n"
          ]
        },
        {
          "output_type": "stream",
          "name": "stdout",
          "text": [
            "Processing: BTC-USD vs XRP-USD \n"
          ]
        },
        {
          "output_type": "stream",
          "name": "stderr",
          "text": [
            "\u001b[1m\u001b[22mSaving 7 x 7 in image\n",
            "\u001b[1m\u001b[22mSaving 7 x 7 in image\n",
            "\u001b[1m\u001b[22mSaving 7 x 7 in image\n"
          ]
        },
        {
          "output_type": "stream",
          "name": "stdout",
          "text": [
            "Processing: DOGE-USD vs DOT-USD \n"
          ]
        },
        {
          "output_type": "stream",
          "name": "stderr",
          "text": [
            "\u001b[1m\u001b[22mSaving 7 x 7 in image\n",
            "\u001b[1m\u001b[22mSaving 7 x 7 in image\n",
            "\u001b[1m\u001b[22mSaving 7 x 7 in image\n"
          ]
        },
        {
          "output_type": "stream",
          "name": "stdout",
          "text": [
            "Processing: DOGE-USD vs ETH-USD \n"
          ]
        },
        {
          "output_type": "stream",
          "name": "stderr",
          "text": [
            "\u001b[1m\u001b[22mSaving 7 x 7 in image\n",
            "\u001b[1m\u001b[22mSaving 7 x 7 in image\n",
            "\u001b[1m\u001b[22mSaving 7 x 7 in image\n"
          ]
        },
        {
          "output_type": "stream",
          "name": "stdout",
          "text": [
            "Processing: DOGE-USD vs LEO-USD \n"
          ]
        },
        {
          "output_type": "stream",
          "name": "stderr",
          "text": [
            "\u001b[1m\u001b[22mSaving 7 x 7 in image\n",
            "\u001b[1m\u001b[22mSaving 7 x 7 in image\n",
            "\u001b[1m\u001b[22mSaving 7 x 7 in image\n"
          ]
        },
        {
          "output_type": "stream",
          "name": "stdout",
          "text": [
            "Processing: DOGE-USD vs LINK-USD \n"
          ]
        },
        {
          "output_type": "stream",
          "name": "stderr",
          "text": [
            "\u001b[1m\u001b[22mSaving 7 x 7 in image\n",
            "\u001b[1m\u001b[22mSaving 7 x 7 in image\n",
            "\u001b[1m\u001b[22mSaving 7 x 7 in image\n"
          ]
        },
        {
          "output_type": "stream",
          "name": "stdout",
          "text": [
            "Processing: DOGE-USD vs LTC-USD \n"
          ]
        },
        {
          "output_type": "stream",
          "name": "stderr",
          "text": [
            "\u001b[1m\u001b[22mSaving 7 x 7 in image\n",
            "\u001b[1m\u001b[22mSaving 7 x 7 in image\n",
            "\u001b[1m\u001b[22mSaving 7 x 7 in image\n"
          ]
        },
        {
          "output_type": "stream",
          "name": "stdout",
          "text": [
            "Processing: DOGE-USD vs OM-USD \n"
          ]
        },
        {
          "output_type": "stream",
          "name": "stderr",
          "text": [
            "\u001b[1m\u001b[22mSaving 7 x 7 in image\n",
            "\u001b[1m\u001b[22mSaving 7 x 7 in image\n",
            "\u001b[1m\u001b[22mSaving 7 x 7 in image\n"
          ]
        },
        {
          "output_type": "stream",
          "name": "stdout",
          "text": [
            "Processing: DOGE-USD vs TRX-USD \n"
          ]
        },
        {
          "output_type": "stream",
          "name": "stderr",
          "text": [
            "\u001b[1m\u001b[22mSaving 7 x 7 in image\n",
            "\u001b[1m\u001b[22mSaving 7 x 7 in image\n",
            "\u001b[1m\u001b[22mSaving 7 x 7 in image\n"
          ]
        },
        {
          "output_type": "stream",
          "name": "stdout",
          "text": [
            "Processing: DOGE-USD vs USDT-USD \n"
          ]
        },
        {
          "output_type": "stream",
          "name": "stderr",
          "text": [
            "\u001b[1m\u001b[22mSaving 7 x 7 in image\n",
            "\u001b[1m\u001b[22mSaving 7 x 7 in image\n",
            "\u001b[1m\u001b[22mSaving 7 x 7 in image\n"
          ]
        },
        {
          "output_type": "stream",
          "name": "stdout",
          "text": [
            "Processing: DOGE-USD vs XLM-USD \n"
          ]
        },
        {
          "output_type": "stream",
          "name": "stderr",
          "text": [
            "\u001b[1m\u001b[22mSaving 7 x 7 in image\n",
            "\u001b[1m\u001b[22mSaving 7 x 7 in image\n",
            "\u001b[1m\u001b[22mSaving 7 x 7 in image\n"
          ]
        },
        {
          "output_type": "stream",
          "name": "stdout",
          "text": [
            "Processing: DOGE-USD vs XRP-USD \n"
          ]
        },
        {
          "output_type": "stream",
          "name": "stderr",
          "text": [
            "\u001b[1m\u001b[22mSaving 7 x 7 in image\n",
            "\u001b[1m\u001b[22mSaving 7 x 7 in image\n",
            "\u001b[1m\u001b[22mSaving 7 x 7 in image\n"
          ]
        },
        {
          "output_type": "stream",
          "name": "stdout",
          "text": [
            "Processing: DOT-USD vs ETH-USD \n"
          ]
        },
        {
          "output_type": "stream",
          "name": "stderr",
          "text": [
            "\u001b[1m\u001b[22mSaving 7 x 7 in image\n",
            "\u001b[1m\u001b[22mSaving 7 x 7 in image\n",
            "\u001b[1m\u001b[22mSaving 7 x 7 in image\n"
          ]
        },
        {
          "output_type": "stream",
          "name": "stdout",
          "text": [
            "Processing: DOT-USD vs LEO-USD \n"
          ]
        },
        {
          "output_type": "stream",
          "name": "stderr",
          "text": [
            "\u001b[1m\u001b[22mSaving 7 x 7 in image\n",
            "\u001b[1m\u001b[22mSaving 7 x 7 in image\n",
            "\u001b[1m\u001b[22mSaving 7 x 7 in image\n"
          ]
        },
        {
          "output_type": "stream",
          "name": "stdout",
          "text": [
            "Processing: DOT-USD vs LINK-USD \n"
          ]
        },
        {
          "output_type": "stream",
          "name": "stderr",
          "text": [
            "\u001b[1m\u001b[22mSaving 7 x 7 in image\n",
            "\u001b[1m\u001b[22mSaving 7 x 7 in image\n",
            "\u001b[1m\u001b[22mSaving 7 x 7 in image\n"
          ]
        },
        {
          "output_type": "stream",
          "name": "stdout",
          "text": [
            "Processing: DOT-USD vs LTC-USD \n"
          ]
        },
        {
          "output_type": "stream",
          "name": "stderr",
          "text": [
            "\u001b[1m\u001b[22mSaving 7 x 7 in image\n",
            "\u001b[1m\u001b[22mSaving 7 x 7 in image\n",
            "\u001b[1m\u001b[22mSaving 7 x 7 in image\n"
          ]
        },
        {
          "output_type": "stream",
          "name": "stdout",
          "text": [
            "Processing: DOT-USD vs OM-USD \n"
          ]
        },
        {
          "output_type": "stream",
          "name": "stderr",
          "text": [
            "\u001b[1m\u001b[22mSaving 7 x 7 in image\n",
            "\u001b[1m\u001b[22mSaving 7 x 7 in image\n",
            "\u001b[1m\u001b[22mSaving 7 x 7 in image\n"
          ]
        },
        {
          "output_type": "stream",
          "name": "stdout",
          "text": [
            "Processing: DOT-USD vs TRX-USD \n"
          ]
        },
        {
          "output_type": "stream",
          "name": "stderr",
          "text": [
            "\u001b[1m\u001b[22mSaving 7 x 7 in image\n",
            "\u001b[1m\u001b[22mSaving 7 x 7 in image\n",
            "\u001b[1m\u001b[22mSaving 7 x 7 in image\n"
          ]
        },
        {
          "output_type": "stream",
          "name": "stdout",
          "text": [
            "Processing: DOT-USD vs USDT-USD \n"
          ]
        },
        {
          "output_type": "stream",
          "name": "stderr",
          "text": [
            "\u001b[1m\u001b[22mSaving 7 x 7 in image\n",
            "\u001b[1m\u001b[22mSaving 7 x 7 in image\n",
            "\u001b[1m\u001b[22mSaving 7 x 7 in image\n"
          ]
        },
        {
          "output_type": "stream",
          "name": "stdout",
          "text": [
            "Processing: DOT-USD vs XLM-USD \n"
          ]
        },
        {
          "output_type": "stream",
          "name": "stderr",
          "text": [
            "\u001b[1m\u001b[22mSaving 7 x 7 in image\n",
            "\u001b[1m\u001b[22mSaving 7 x 7 in image\n",
            "\u001b[1m\u001b[22mSaving 7 x 7 in image\n"
          ]
        },
        {
          "output_type": "stream",
          "name": "stdout",
          "text": [
            "Processing: DOT-USD vs XRP-USD \n"
          ]
        },
        {
          "output_type": "stream",
          "name": "stderr",
          "text": [
            "\u001b[1m\u001b[22mSaving 7 x 7 in image\n",
            "\u001b[1m\u001b[22mSaving 7 x 7 in image\n",
            "\u001b[1m\u001b[22mSaving 7 x 7 in image\n"
          ]
        },
        {
          "output_type": "stream",
          "name": "stdout",
          "text": [
            "Processing: ETH-USD vs LEO-USD \n"
          ]
        },
        {
          "output_type": "stream",
          "name": "stderr",
          "text": [
            "\u001b[1m\u001b[22mSaving 7 x 7 in image\n",
            "\u001b[1m\u001b[22mSaving 7 x 7 in image\n",
            "\u001b[1m\u001b[22mSaving 7 x 7 in image\n"
          ]
        },
        {
          "output_type": "stream",
          "name": "stdout",
          "text": [
            "Processing: ETH-USD vs LINK-USD \n"
          ]
        },
        {
          "output_type": "stream",
          "name": "stderr",
          "text": [
            "\u001b[1m\u001b[22mSaving 7 x 7 in image\n",
            "\u001b[1m\u001b[22mSaving 7 x 7 in image\n",
            "\u001b[1m\u001b[22mSaving 7 x 7 in image\n"
          ]
        },
        {
          "output_type": "stream",
          "name": "stdout",
          "text": [
            "Processing: ETH-USD vs LTC-USD \n"
          ]
        },
        {
          "output_type": "stream",
          "name": "stderr",
          "text": [
            "\u001b[1m\u001b[22mSaving 7 x 7 in image\n",
            "\u001b[1m\u001b[22mSaving 7 x 7 in image\n",
            "\u001b[1m\u001b[22mSaving 7 x 7 in image\n"
          ]
        },
        {
          "output_type": "stream",
          "name": "stdout",
          "text": [
            "Processing: ETH-USD vs OM-USD \n"
          ]
        },
        {
          "output_type": "stream",
          "name": "stderr",
          "text": [
            "\u001b[1m\u001b[22mSaving 7 x 7 in image\n",
            "\u001b[1m\u001b[22mSaving 7 x 7 in image\n",
            "\u001b[1m\u001b[22mSaving 7 x 7 in image\n"
          ]
        },
        {
          "output_type": "stream",
          "name": "stdout",
          "text": [
            "Processing: ETH-USD vs TRX-USD \n"
          ]
        },
        {
          "output_type": "stream",
          "name": "stderr",
          "text": [
            "\u001b[1m\u001b[22mSaving 7 x 7 in image\n",
            "\u001b[1m\u001b[22mSaving 7 x 7 in image\n",
            "\u001b[1m\u001b[22mSaving 7 x 7 in image\n"
          ]
        },
        {
          "output_type": "stream",
          "name": "stdout",
          "text": [
            "Processing: ETH-USD vs USDT-USD \n"
          ]
        },
        {
          "output_type": "stream",
          "name": "stderr",
          "text": [
            "\u001b[1m\u001b[22mSaving 7 x 7 in image\n",
            "\u001b[1m\u001b[22mSaving 7 x 7 in image\n",
            "\u001b[1m\u001b[22mSaving 7 x 7 in image\n"
          ]
        },
        {
          "output_type": "stream",
          "name": "stdout",
          "text": [
            "Processing: ETH-USD vs XLM-USD \n"
          ]
        },
        {
          "output_type": "stream",
          "name": "stderr",
          "text": [
            "\u001b[1m\u001b[22mSaving 7 x 7 in image\n",
            "\u001b[1m\u001b[22mSaving 7 x 7 in image\n",
            "\u001b[1m\u001b[22mSaving 7 x 7 in image\n"
          ]
        },
        {
          "output_type": "stream",
          "name": "stdout",
          "text": [
            "Processing: ETH-USD vs XRP-USD \n"
          ]
        },
        {
          "output_type": "stream",
          "name": "stderr",
          "text": [
            "\u001b[1m\u001b[22mSaving 7 x 7 in image\n",
            "\u001b[1m\u001b[22mSaving 7 x 7 in image\n",
            "\u001b[1m\u001b[22mSaving 7 x 7 in image\n"
          ]
        },
        {
          "output_type": "stream",
          "name": "stdout",
          "text": [
            "Processing: LEO-USD vs LINK-USD \n"
          ]
        },
        {
          "output_type": "stream",
          "name": "stderr",
          "text": [
            "\u001b[1m\u001b[22mSaving 7 x 7 in image\n",
            "\u001b[1m\u001b[22mSaving 7 x 7 in image\n",
            "\u001b[1m\u001b[22mSaving 7 x 7 in image\n"
          ]
        },
        {
          "output_type": "stream",
          "name": "stdout",
          "text": [
            "Processing: LEO-USD vs LTC-USD \n"
          ]
        },
        {
          "output_type": "stream",
          "name": "stderr",
          "text": [
            "\u001b[1m\u001b[22mSaving 7 x 7 in image\n",
            "\u001b[1m\u001b[22mSaving 7 x 7 in image\n",
            "\u001b[1m\u001b[22mSaving 7 x 7 in image\n"
          ]
        },
        {
          "output_type": "stream",
          "name": "stdout",
          "text": [
            "Processing: LEO-USD vs OM-USD \n"
          ]
        },
        {
          "output_type": "stream",
          "name": "stderr",
          "text": [
            "\u001b[1m\u001b[22mSaving 7 x 7 in image\n",
            "\u001b[1m\u001b[22mSaving 7 x 7 in image\n",
            "\u001b[1m\u001b[22mSaving 7 x 7 in image\n"
          ]
        },
        {
          "output_type": "stream",
          "name": "stdout",
          "text": [
            "Processing: LEO-USD vs TRX-USD \n"
          ]
        },
        {
          "output_type": "stream",
          "name": "stderr",
          "text": [
            "\u001b[1m\u001b[22mSaving 7 x 7 in image\n",
            "\u001b[1m\u001b[22mSaving 7 x 7 in image\n",
            "\u001b[1m\u001b[22mSaving 7 x 7 in image\n"
          ]
        },
        {
          "output_type": "stream",
          "name": "stdout",
          "text": [
            "Processing: LEO-USD vs USDT-USD \n"
          ]
        },
        {
          "output_type": "stream",
          "name": "stderr",
          "text": [
            "\u001b[1m\u001b[22mSaving 7 x 7 in image\n",
            "\u001b[1m\u001b[22mSaving 7 x 7 in image\n",
            "\u001b[1m\u001b[22mSaving 7 x 7 in image\n"
          ]
        },
        {
          "output_type": "stream",
          "name": "stdout",
          "text": [
            "Processing: LEO-USD vs XLM-USD \n"
          ]
        },
        {
          "output_type": "stream",
          "name": "stderr",
          "text": [
            "\u001b[1m\u001b[22mSaving 7 x 7 in image\n",
            "\u001b[1m\u001b[22mSaving 7 x 7 in image\n",
            "\u001b[1m\u001b[22mSaving 7 x 7 in image\n"
          ]
        },
        {
          "output_type": "stream",
          "name": "stdout",
          "text": [
            "Processing: LEO-USD vs XRP-USD \n"
          ]
        },
        {
          "output_type": "stream",
          "name": "stderr",
          "text": [
            "\u001b[1m\u001b[22mSaving 7 x 7 in image\n",
            "\u001b[1m\u001b[22mSaving 7 x 7 in image\n",
            "\u001b[1m\u001b[22mSaving 7 x 7 in image\n"
          ]
        },
        {
          "output_type": "stream",
          "name": "stdout",
          "text": [
            "Processing: LINK-USD vs LTC-USD \n"
          ]
        },
        {
          "output_type": "stream",
          "name": "stderr",
          "text": [
            "\u001b[1m\u001b[22mSaving 7 x 7 in image\n",
            "\u001b[1m\u001b[22mSaving 7 x 7 in image\n",
            "\u001b[1m\u001b[22mSaving 7 x 7 in image\n"
          ]
        },
        {
          "output_type": "stream",
          "name": "stdout",
          "text": [
            "Processing: LINK-USD vs OM-USD \n"
          ]
        },
        {
          "output_type": "stream",
          "name": "stderr",
          "text": [
            "\u001b[1m\u001b[22mSaving 7 x 7 in image\n",
            "\u001b[1m\u001b[22mSaving 7 x 7 in image\n",
            "\u001b[1m\u001b[22mSaving 7 x 7 in image\n"
          ]
        },
        {
          "output_type": "stream",
          "name": "stdout",
          "text": [
            "Processing: LINK-USD vs TRX-USD \n"
          ]
        },
        {
          "output_type": "stream",
          "name": "stderr",
          "text": [
            "\u001b[1m\u001b[22mSaving 7 x 7 in image\n",
            "\u001b[1m\u001b[22mSaving 7 x 7 in image\n",
            "\u001b[1m\u001b[22mSaving 7 x 7 in image\n"
          ]
        },
        {
          "output_type": "stream",
          "name": "stdout",
          "text": [
            "Processing: LINK-USD vs USDT-USD \n"
          ]
        },
        {
          "output_type": "stream",
          "name": "stderr",
          "text": [
            "\u001b[1m\u001b[22mSaving 7 x 7 in image\n",
            "\u001b[1m\u001b[22mSaving 7 x 7 in image\n",
            "\u001b[1m\u001b[22mSaving 7 x 7 in image\n"
          ]
        },
        {
          "output_type": "stream",
          "name": "stdout",
          "text": [
            "Processing: LINK-USD vs XLM-USD \n"
          ]
        },
        {
          "output_type": "stream",
          "name": "stderr",
          "text": [
            "\u001b[1m\u001b[22mSaving 7 x 7 in image\n",
            "\u001b[1m\u001b[22mSaving 7 x 7 in image\n",
            "\u001b[1m\u001b[22mSaving 7 x 7 in image\n"
          ]
        },
        {
          "output_type": "stream",
          "name": "stdout",
          "text": [
            "Processing: LINK-USD vs XRP-USD \n"
          ]
        },
        {
          "output_type": "stream",
          "name": "stderr",
          "text": [
            "\u001b[1m\u001b[22mSaving 7 x 7 in image\n",
            "\u001b[1m\u001b[22mSaving 7 x 7 in image\n",
            "\u001b[1m\u001b[22mSaving 7 x 7 in image\n"
          ]
        },
        {
          "output_type": "stream",
          "name": "stdout",
          "text": [
            "Processing: LTC-USD vs OM-USD \n"
          ]
        },
        {
          "output_type": "stream",
          "name": "stderr",
          "text": [
            "\u001b[1m\u001b[22mSaving 7 x 7 in image\n",
            "\u001b[1m\u001b[22mSaving 7 x 7 in image\n",
            "\u001b[1m\u001b[22mSaving 7 x 7 in image\n"
          ]
        },
        {
          "output_type": "stream",
          "name": "stdout",
          "text": [
            "Processing: LTC-USD vs TRX-USD \n"
          ]
        },
        {
          "output_type": "stream",
          "name": "stderr",
          "text": [
            "\u001b[1m\u001b[22mSaving 7 x 7 in image\n",
            "\u001b[1m\u001b[22mSaving 7 x 7 in image\n",
            "\u001b[1m\u001b[22mSaving 7 x 7 in image\n"
          ]
        },
        {
          "output_type": "stream",
          "name": "stdout",
          "text": [
            "Processing: LTC-USD vs USDT-USD \n"
          ]
        },
        {
          "output_type": "stream",
          "name": "stderr",
          "text": [
            "\u001b[1m\u001b[22mSaving 7 x 7 in image\n",
            "\u001b[1m\u001b[22mSaving 7 x 7 in image\n",
            "\u001b[1m\u001b[22mSaving 7 x 7 in image\n"
          ]
        },
        {
          "output_type": "stream",
          "name": "stdout",
          "text": [
            "Processing: LTC-USD vs XLM-USD \n"
          ]
        },
        {
          "output_type": "stream",
          "name": "stderr",
          "text": [
            "\u001b[1m\u001b[22mSaving 7 x 7 in image\n",
            "\u001b[1m\u001b[22mSaving 7 x 7 in image\n",
            "\u001b[1m\u001b[22mSaving 7 x 7 in image\n"
          ]
        },
        {
          "output_type": "stream",
          "name": "stdout",
          "text": [
            "Processing: LTC-USD vs XRP-USD \n"
          ]
        },
        {
          "output_type": "stream",
          "name": "stderr",
          "text": [
            "\u001b[1m\u001b[22mSaving 7 x 7 in image\n",
            "\u001b[1m\u001b[22mSaving 7 x 7 in image\n",
            "\u001b[1m\u001b[22mSaving 7 x 7 in image\n"
          ]
        },
        {
          "output_type": "stream",
          "name": "stdout",
          "text": [
            "Processing: OM-USD vs TRX-USD \n"
          ]
        },
        {
          "output_type": "stream",
          "name": "stderr",
          "text": [
            "\u001b[1m\u001b[22mSaving 7 x 7 in image\n",
            "\u001b[1m\u001b[22mSaving 7 x 7 in image\n",
            "\u001b[1m\u001b[22mSaving 7 x 7 in image\n"
          ]
        },
        {
          "output_type": "stream",
          "name": "stdout",
          "text": [
            "Processing: OM-USD vs USDT-USD \n"
          ]
        },
        {
          "output_type": "stream",
          "name": "stderr",
          "text": [
            "\u001b[1m\u001b[22mSaving 7 x 7 in image\n",
            "\u001b[1m\u001b[22mSaving 7 x 7 in image\n",
            "\u001b[1m\u001b[22mSaving 7 x 7 in image\n"
          ]
        },
        {
          "output_type": "stream",
          "name": "stdout",
          "text": [
            "Processing: OM-USD vs XLM-USD \n"
          ]
        },
        {
          "output_type": "stream",
          "name": "stderr",
          "text": [
            "\u001b[1m\u001b[22mSaving 7 x 7 in image\n",
            "\u001b[1m\u001b[22mSaving 7 x 7 in image\n",
            "\u001b[1m\u001b[22mSaving 7 x 7 in image\n"
          ]
        },
        {
          "output_type": "stream",
          "name": "stdout",
          "text": [
            "Processing: OM-USD vs XRP-USD \n"
          ]
        },
        {
          "output_type": "stream",
          "name": "stderr",
          "text": [
            "\u001b[1m\u001b[22mSaving 7 x 7 in image\n",
            "\u001b[1m\u001b[22mSaving 7 x 7 in image\n",
            "\u001b[1m\u001b[22mSaving 7 x 7 in image\n"
          ]
        },
        {
          "output_type": "stream",
          "name": "stdout",
          "text": [
            "Processing: TRX-USD vs USDT-USD \n"
          ]
        },
        {
          "output_type": "stream",
          "name": "stderr",
          "text": [
            "\u001b[1m\u001b[22mSaving 7 x 7 in image\n",
            "\u001b[1m\u001b[22mSaving 7 x 7 in image\n",
            "\u001b[1m\u001b[22mSaving 7 x 7 in image\n"
          ]
        },
        {
          "output_type": "stream",
          "name": "stdout",
          "text": [
            "Processing: TRX-USD vs XLM-USD \n"
          ]
        },
        {
          "output_type": "stream",
          "name": "stderr",
          "text": [
            "\u001b[1m\u001b[22mSaving 7 x 7 in image\n",
            "\u001b[1m\u001b[22mSaving 7 x 7 in image\n",
            "\u001b[1m\u001b[22mSaving 7 x 7 in image\n"
          ]
        },
        {
          "output_type": "stream",
          "name": "stdout",
          "text": [
            "Processing: TRX-USD vs XRP-USD \n"
          ]
        },
        {
          "output_type": "stream",
          "name": "stderr",
          "text": [
            "\u001b[1m\u001b[22mSaving 7 x 7 in image\n",
            "\u001b[1m\u001b[22mSaving 7 x 7 in image\n",
            "\u001b[1m\u001b[22mSaving 7 x 7 in image\n"
          ]
        },
        {
          "output_type": "stream",
          "name": "stdout",
          "text": [
            "Processing: USDT-USD vs XLM-USD \n"
          ]
        },
        {
          "output_type": "stream",
          "name": "stderr",
          "text": [
            "\u001b[1m\u001b[22mSaving 7 x 7 in image\n",
            "\u001b[1m\u001b[22mSaving 7 x 7 in image\n",
            "\u001b[1m\u001b[22mSaving 7 x 7 in image\n"
          ]
        },
        {
          "output_type": "stream",
          "name": "stdout",
          "text": [
            "Processing: USDT-USD vs XRP-USD \n"
          ]
        },
        {
          "output_type": "stream",
          "name": "stderr",
          "text": [
            "\u001b[1m\u001b[22mSaving 7 x 7 in image\n",
            "\u001b[1m\u001b[22mSaving 7 x 7 in image\n",
            "\u001b[1m\u001b[22mSaving 7 x 7 in image\n"
          ]
        },
        {
          "output_type": "stream",
          "name": "stdout",
          "text": [
            "Processing: XLM-USD vs XRP-USD \n"
          ]
        },
        {
          "output_type": "stream",
          "name": "stderr",
          "text": [
            "\u001b[1m\u001b[22mSaving 7 x 7 in image\n",
            "\u001b[1m\u001b[22mSaving 7 x 7 in image\n",
            "\u001b[1m\u001b[22mSaving 7 x 7 in image\n"
          ]
        }
      ]
    },
    {
      "cell_type": "markdown",
      "source": [
        "### Visulalization"
      ],
      "metadata": {
        "id": "_VHItvZ524sP"
      }
    },
    {
      "cell_type": "markdown",
      "source": [
        "The code below is the bar plot of the coefficient of asymptotic dependence for all the pairs of cryptos"
      ],
      "metadata": {
        "id": "YsBAftjFxJwi"
      }
    },
    {
      "cell_type": "code",
      "source": [
        "# Optional: Adjust for notebook output\n",
        "options(repr.plot.width = 24, repr.plot.height = 24)\n",
        "\n",
        "# Remove \"-USD\" from both Crypto_X and Crypto_Y\n",
        "summary_results$Crypto_X_clean <- gsub(\"-USD\", \"\", summary_results$Crypto_X)\n",
        "summary_results$Crypto_Y_clean <- gsub(\"-USD\", \"\", summary_results$Crypto_Y)\n",
        "\n",
        "# Create 'Pair' column with cleaned names\n",
        "summary_results$Pair <- paste(summary_results$Crypto_X_clean, summary_results$Crypto_Y_clean, sep = \"-\")\n",
        "\n",
        "# Convert 'Chi_0.90' column to numeric (safety)\n",
        "summary_results$Chi_0.90 <- as.numeric(summary_results$Chi_0.90)\n",
        "\n",
        "# Greyscale plot for χ (Chi)\n",
        "chi_plot <- ggplot(summary_results, aes(x = reorder(Pair, Chi_0.90), y = Chi_0.90)) +\n",
        "  geom_col(fill = \"grey\", width = 0.6) +  # Greyscale bars\n",
        "  coord_flip() +  # Horizontal bars\n",
        "  theme_minimal(base_size = 20) +\n",
        "  labs(\n",
        "    title = expression(\"Asymptotic Dependence Index (\"*Chi*\") Between Cryptocurrency Pairs\"),\n",
        "    x = NULL,\n",
        "    y = expression(Chi~\"(χ) at 0.90 Quantile\")\n",
        "  ) +\n",
        "  theme(\n",
        "    plot.title = element_text(size = 22, face = \"bold\", hjust = 0.5),\n",
        "    axis.title.y = element_blank(),\n",
        "    axis.text.y = element_text(size = 20),\n",
        "    axis.text.x = element_text(size = 20),\n",
        "    axis.title.x = element_text(size = 20),\n",
        "    plot.margin = margin(30, 30, 30, 30)\n",
        "  )\n",
        "\n",
        "# Save greyscale plot for χ\n",
        "ggsave(\"chi_plot_greyscale.png\", plot = chi_plot, width = 24, height = 24, dpi = 300)\n",
        "ggsave(\"chi_plot_greyscale.pdf\", plot = chi_plot, width = 24, height = 24)\n"
      ],
      "metadata": {
        "colab": {
          "base_uri": "https://localhost:8080/"
        },
        "id": "4w-Uniyf2dfx",
        "outputId": "26ca9f0c-f118-412e-c2b6-3ef45339772e"
      },
      "execution_count": 7,
      "outputs": [
        {
          "output_type": "stream",
          "name": "stderr",
          "text": [
            "Warning message in grid.Call.graphics(C_text, as.graphicsAnnot(x$label), x$x, x$y, :\n",
            "“conversion failure on '(χ) at 0.90 Quantile' in 'mbcsToSbcs': for χ (U+03C7)”\n"
          ]
        }
      ]
    },
    {
      "cell_type": "markdown",
      "source": [
        "Code below is the bar plot of the coefficient of asymptotic independence for all the pairs of cryptos"
      ],
      "metadata": {
        "id": "nPsoo9kExq8q"
      }
    },
    {
      "cell_type": "code",
      "source": [
        "# Optional: Adjust for notebook output\n",
        "options(repr.plot.width = 24, repr.plot.height = 24)\n",
        "\n",
        "# Remove \"-USD\" from both Crypto_X and Crypto_Y\n",
        "summary_results$Crypto_X_clean <- gsub(\"-USD\", \"\", summary_results$Crypto_X)\n",
        "summary_results$Crypto_Y_clean <- gsub(\"-USD\", \"\", summary_results$Crypto_Y)\n",
        "\n",
        "# Ensure 'Pair' column exists and is character vector\n",
        "summary_results$Pair <- paste(summary_results$Crypto_X_clean, summary_results$Crypto_Y_clean, sep = \"-\")\n",
        "\n",
        "# Convert 'ChiBar_0.90' column to numeric to be safe:\n",
        "summary_results$ChiBar_0.90 <- as.numeric(summary_results$ChiBar_0.90)\n",
        "\n",
        "# Greyscale plot for χ̄ (Chi-Bar) at 0.90 Quantile\n",
        "chi_bar_plot <- ggplot(summary_results, aes(x = reorder(Pair, ChiBar_0.90), y = ChiBar_0.90)) +\n",
        "  geom_col(fill = \"grey\", width = 0.6) +  # Greyscale bars\n",
        "  coord_flip() +  # Horizontal bars\n",
        "  theme_minimal(base_size = 20) +\n",
        "  labs(\n",
        "    title = expression(\"Asymptotic Independence Index (\"*bar(Chi)*\") Between Cryptocurrency Pairs at 0.90 Quantile\"),\n",
        "    x = NULL,\n",
        "    y = expression(bar(Chi)~\"(χ̄) at 0.90 Quantile\")\n",
        "  ) +\n",
        "  theme(\n",
        "    plot.title = element_text(size = 22, face = \"bold\", hjust = 0.5),\n",
        "    axis.title.y = element_blank(),\n",
        "    axis.text.y = element_text(size = 20),\n",
        "    axis.text.x = element_text(size = 20),\n",
        "    axis.title.x = element_text(size = 20),\n",
        "    plot.margin = margin(30, 30, 30, 30)\n",
        "  )\n",
        "\n",
        "# Save greyscale plot for χ̄ at 0.90 quantile\n",
        "ggsave(\"chi_bar_plot_0.90_greyscale.png\", plot = chi_bar_plot, width = 24, height = 24, dpi = 300)\n",
        "ggsave(\"chi_bar_plot_0.90_greyscale.pdf\", plot = chi_bar_plot, width = 24, height = 24)\n"
      ],
      "metadata": {
        "id": "w0IP3PRPJl2C",
        "colab": {
          "base_uri": "https://localhost:8080/"
        },
        "outputId": "32500556-57dd-4137-c2d6-f15cf8d48af5"
      },
      "execution_count": 8,
      "outputs": [
        {
          "output_type": "stream",
          "name": "stderr",
          "text": [
            "Warning message in grid.Call.graphics(C_text, as.graphicsAnnot(x$label), x$x, x$y, :\n",
            "“conversion failure on '(χ̄) at 0.90 Quantile' in 'mbcsToSbcs': for χ (U+03C7)”\n",
            "Warning message in grid.Call.graphics(C_text, as.graphicsAnnot(x$label), x$x, x$y, :\n",
            "“conversion failure on '(χ̄) at 0.90 Quantile' in 'mbcsToSbcs': for ̄ (U+0304)”\n"
          ]
        }
      ]
    },
    {
      "cell_type": "markdown",
      "source": [
        "## Multivariate Extremes"
      ],
      "metadata": {
        "id": "9ezNDQiyr0cr"
      }
    },
    {
      "cell_type": "markdown",
      "source": [
        "To work on the Multivariate Extreme Value Analysis, we create a combined csv, and continue working in RStudio."
      ],
      "metadata": {
        "id": "V3bOSDlkywSw"
      }
    },
    {
      "cell_type": "code",
      "source": [
        "# Combine into one DataFrame (each column is one crypto)\n",
        "combined_df <- as.data.frame(crypto_data)\n",
        "colnames(combined_df) <- gsub(\"_std_residuals\\\\.csv$\", \"\", basename(crypto_files))\n",
        "\n",
        "# Save to CSV\n",
        "write_csv(combined_df, \"standardized_residuals_combined.csv\")"
      ],
      "metadata": {
        "id": "e06NKMxvxyFz"
      },
      "execution_count": 9,
      "outputs": []
    }
  ]
}